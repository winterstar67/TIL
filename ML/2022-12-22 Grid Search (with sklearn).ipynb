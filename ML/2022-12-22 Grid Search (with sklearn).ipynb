{
 "cells": [
  {
   "cell_type": "markdown",
   "id": "297557c3-3775-4f6b-817c-48829e3ccc5f",
   "metadata": {},
   "source": [
    "# 2022-12-22 Grid Search (with sklearn)\n",
    "### 개인 공부 정리전용"
   ]
  },
  {
   "cell_type": "markdown",
   "id": "c3fc5dc6-8dfb-44c0-b99b-9d7949cb1797",
   "metadata": {},
   "source": [
    "**Motivation:**  \n",
    "Classifier를 만들어야하는데, Deep learning을 사용하기에는 데이터의 양이 너무 작았다.  \n",
    "그래서 SVM과 같이 sklearn에 있는 ML 모델들을 사용하고자 하였는데, parameter tuning을 다양한 경우의 수에 대해서 하기는 일일이 작업하는 것이 힘들고 시간이 오래 걸렸다.  \n",
    "그래서 이를 구현한 함수가 있는지 서칭을 하였는데, sklearn.model_selection에 GridSearchCV라는 함수가 구현되어 있었다."
   ]
  },
  {
   "cell_type": "markdown",
   "id": "c3a29500-ff37-4799-a747-5e29f3a23d48",
   "metadata": {},
   "source": [
    "`-` XGBoost와 SVM을 가지고 GridSearchCV 함수를 사용해보았다.  \n",
    "코드 출처: https://gist.github.com/statcompute/d97c42361a0a84e4ade02ed3fe667ca5"
   ]
  },
  {
   "cell_type": "markdown",
   "id": "141067e9-9d95-414e-9fb9-b9e41d0245c4",
   "metadata": {},
   "source": [
    "처음 보는 함수여서 잘못된 부분이 있을 수 있음. "
   ]
  },
  {
   "cell_type": "markdown",
   "id": "b16ddd47-0f10-4d2e-b27c-33676ffbf71d",
   "metadata": {
    "tags": []
   },
   "source": [
    "### `-` library import"
   ]
  },
  {
   "cell_type": "code",
   "execution_count": 23,
   "id": "afaaaf7f-3be0-4744-b800-1aa4fb7bdef2",
   "metadata": {},
   "outputs": [],
   "source": [
    "import warnings\n",
    "warnings.filterwarnings(\"ignore\")"
   ]
  },
  {
   "cell_type": "code",
   "execution_count": 62,
   "id": "13625531-4607-4beb-942b-01ce23b53811",
   "metadata": {},
   "outputs": [],
   "source": [
    "from xgboost import XGBClassifier\n",
    "from sklearn import svm\n",
    "from sklearn.metrics import make_scorer, log_loss\n",
    "from sklearn.model_selection import GridSearchCV\n",
    "from sklearn.datasets import load_wine\n",
    "import numpy as np\n",
    "import pandas as pd\n"
   ]
  },
  {
   "cell_type": "markdown",
   "id": "d2a345bf-020b-4bf8-b127-26b7b8a02126",
   "metadata": {},
   "source": [
    "`-` Toy data"
   ]
  },
  {
   "cell_type": "code",
   "execution_count": 52,
   "id": "68e66fce-69a3-4405-bdc2-27d570d0950a",
   "metadata": {},
   "outputs": [],
   "source": [
    "data = pd.DataFrame({\"X1\":np.arange(0,10,0.1), \"X2\":np.arange(0,10,0.1)**2})\n",
    "label = [0]*50 + [1]*50"
   ]
  },
  {
   "cell_type": "markdown",
   "id": "ae3bae8e-6f1f-4d27-90c8-8417e9de2b0f",
   "metadata": {},
   "source": [
    "`-` SVM에 grid search를 적용해본다."
   ]
  },
  {
   "cell_type": "code",
   "execution_count": 70,
   "id": "5bf71b23-6641-4602-9b59-e5688e32731a",
   "metadata": {},
   "outputs": [
    {
     "data": {
      "text/plain": [
       "{'mean_fit_time': array([0.00203576, 0.0015954 , 0.00102077, 0.00083704]),\n",
       " 'std_fit_time': array([1.25728111e-03, 5.08748480e-04, 3.78581678e-05, 1.02675208e-03]),\n",
       " 'mean_score_time': array([0.00118799, 0.00079107, 0.00099869, 0.        ]),\n",
       " 'std_score_time': array([3.84402132e-04, 3.96022805e-04, 3.32899278e-06, 0.00000000e+00]),\n",
       " 'param_C': masked_array(data=[1, 1, 3, 3],\n",
       "              mask=[False, False, False, False],\n",
       "        fill_value='?',\n",
       "             dtype=object),\n",
       " 'param_gamma': masked_array(data=[0.01, 0.03, 0.01, 0.03],\n",
       "              mask=[False, False, False, False],\n",
       "        fill_value='?',\n",
       "             dtype=object),\n",
       " 'param_kernel': masked_array(data=['rbf', 'rbf', 'rbf', 'rbf'],\n",
       "              mask=[False, False, False, False],\n",
       "        fill_value='?',\n",
       "             dtype=object),\n",
       " 'params': [{'C': 1, 'gamma': 0.01, 'kernel': 'rbf'},\n",
       "  {'C': 1, 'gamma': 0.03, 'kernel': 'rbf'},\n",
       "  {'C': 3, 'gamma': 0.01, 'kernel': 'rbf'},\n",
       "  {'C': 3, 'gamma': 0.03, 'kernel': 'rbf'}],\n",
       " 'split0_test_score': array([8.6346941 , 6.90775528, 8.6346941 , 8.6346941 ]),\n",
       " 'split1_test_score': array([9.99200722e-16, 9.99200722e-16, 9.99200722e-16, 9.99200722e-16]),\n",
       " 'split2_test_score': array([9.99200722e-16, 9.99200722e-16, 9.99200722e-16, 9.99200722e-16]),\n",
       " 'split3_test_score': array([9.99200722e-16, 9.99200722e-16, 9.99200722e-16, 9.99200722e-16]),\n",
       " 'split4_test_score': array([8.634894, 8.634894, 8.634894, 8.634894]),\n",
       " 'mean_test_score': array([3.45391762, 3.10852986, 3.45391762, 3.45391762]),\n",
       " 'std_test_score': array([4.23016789, 3.84613281, 4.23016789, 4.23016789]),\n",
       " 'rank_test_score': array([1, 4, 1, 1])}"
      ]
     },
     "execution_count": 70,
     "metadata": {},
     "output_type": "execute_result"
    }
   ],
   "source": [
    "mdl = svm.SVC(probability = True, random_state = 1) # SVM 모델 선언\n",
    "score = make_scorer(log_loss) # 잘은 모르겠지만 make_scorer는 gridsearch를 사용할 때 같이 사용하는 함수 같다. sklearn 페이지의 example에도 나와있음.https://scikit-learn.org/stable/modules/generated/sklearn.metrics.make_scorer.html\n",
    "# make_scorer를 빼고 사용하면 split_test_score 부분의 값들이 nan을 ㅗ채워졌다.\n",
    "\n",
    "# 탐색하고자 하는 parameter 범위 정의\n",
    "grid_list = {'kernel': ['linear'], \"C\": np.arange(1, 5, 2),\n",
    "             'kernel': ['rbf'], \"C\":np.arange(1, 5, 2), \n",
    "             \"gamma\": np.arange(0.01, 0.05, 0.02)}\n",
    "\n",
    "# Grid search 진행\n",
    "grid_search = GridSearchCV(mdl, param_grid = grid_list, cv = 5, scoring = score) \n",
    "grid_search.fit(data, label) \n",
    "grid_search.cv_results_"
   ]
  },
  {
   "cell_type": "markdown",
   "id": "75465aca-5b73-4bec-8bc6-a709b091096e",
   "metadata": {},
   "source": [
    "`-` 위의 grid search에서 나온 최적의 파라메터와 최고 score"
   ]
  },
  {
   "cell_type": "code",
   "execution_count": 66,
   "id": "af08bb75-4390-4ec0-b444-626dfb4672d8",
   "metadata": {},
   "outputs": [
    {
     "data": {
      "text/plain": [
       "({'C': 1, 'gamma': 0.01, 'kernel': 'rbf'}, 3.453917619362579)"
      ]
     },
     "execution_count": 66,
     "metadata": {},
     "output_type": "execute_result"
    }
   ],
   "source": [
    "grid_search.best_params_, grid_search.best_score_"
   ]
  },
  {
   "cell_type": "markdown",
   "id": "b392c75b-4e11-405f-9b81-83d2f11645ba",
   "metadata": {},
   "source": [
    "grid_search.best_params_ 를 사용하면 최적의 파라미터를 준다고 한다.  \n",
    "grid_search.best_score_ 를 사용하면 최고 점수를 준다고 한다.\n",
    "- 출처: https://wpaud16.tistory.com/65"
   ]
  }
 ],
 "metadata": {
  "kernelspec": {
   "display_name": "Python 3 (ipykernel)",
   "language": "python",
   "name": "python3"
  },
  "language_info": {
   "codemirror_mode": {
    "name": "ipython",
    "version": 3
   },
   "file_extension": ".py",
   "mimetype": "text/x-python",
   "name": "python",
   "nbconvert_exporter": "python",
   "pygments_lexer": "ipython3",
   "version": "3.9.12"
  }
 },
 "nbformat": 4,
 "nbformat_minor": 5
}
